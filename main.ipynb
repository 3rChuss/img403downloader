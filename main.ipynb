{
 "cells": [
  {
   "cell_type": "markdown",
   "metadata": {},
   "source": [
    "# Descarga cualquier imagen que se vea en el navegador"
   ]
  },
  {
   "cell_type": "code",
   "execution_count": 1,
   "metadata": {},
   "outputs": [],
   "source": [
    "from selenium import webdriver\n",
    "from selenium.webdriver.chrome.service import Service\n",
    "import time"
   ]
  },
  {
   "cell_type": "markdown",
   "metadata": {},
   "source": [
    "## Un caso concreto\n",
    "\n",
    "No funciona por que el servidor tiene bloquedas las peticiones que no sean de navegadores\n"
   ]
  },
  {
   "cell_type": "code",
   "execution_count": null,
   "metadata": {},
   "outputs": [],
   "source": [
    "from urllib.request import urlretrieve\n",
    "\n",
    "urlretrieve(\"https://makito.es/WebRoot/Store/Shops/Makito/6332/C404/3FD4/1B5D/1AAB/0A6E/0397/F217/2483-A2.jpg\", \"test.jpg\")"
   ]
  },
  {
   "cell_type": "markdown",
   "metadata": {},
   "source": [
    "## Instalar el service.\n",
    "En nuestro caso usaremos Chrome :)\n",
    "\n",
    "[Descarga el driver para tu pc](https://googlechromelabs.github.io/chrome-for-testing/)\n"
   ]
  },
  {
   "cell_type": "code",
   "execution_count": 6,
   "metadata": {},
   "outputs": [],
   "source": [
    "service = Service(\"ruta_de_tu_driver\")\n",
    "driver = webdriver.Chrome(service=service)\n",
    "\n",
    "url = \"https://makito.es/WebRoot/Store/Shops/Makito/6332/C404/3FD4/1B5D/1AAB/0A6E/0397/F217/2483-A2.jpg\"\n",
    "\n",
    "driver.get(url)\n",
    "time.sleep(5)\n",
    "\n",
    "with open(\"test2.jpg\", \"wb\") as file:\n",
    "    file.write(driver.find_element(\"tag name\", \"img\").screenshot_as_png)\n",
    "    \n",
    "driver.quit()"
   ]
  },
  {
   "cell_type": "markdown",
   "metadata": {},
   "source": [
    "# Ponlo en práctica con una función"
   ]
  },
  {
   "cell_type": "code",
   "execution_count": 1,
   "metadata": {},
   "outputs": [],
   "source": [
    "def download_from_webbrowser(url, path):\n",
    "    from selenium import webdriver\n",
    "    from selenium.webdriver.chrome.service import Service\n",
    "    import time\n",
    "    \n",
    "    service = Service(\"C:\\chromedriver-win64\\chromedriver.exe\")\n",
    "    driver = webdriver.Chrome(service=service)\n",
    "    \n",
    "    driver.get(url)\n",
    "    time.sleep(5)\n",
    "\n",
    "    with open(path, 'wb') as f:\n",
    "        f.write(driver.find_element(\"tag name\", \"img\").screenshot_as_png)\n",
    "    \n",
    "    driver.quit()"
   ]
  },
  {
   "cell_type": "code",
   "execution_count": null,
   "metadata": {},
   "outputs": [],
   "source": [
    "urls = [\n",
    "    \"https://makito.es/WebRoot/Store/Shops/Makito/6332/C404/3FD4/1B5D/1AAB/0A6E/0397/F217/2483-A2.jpg\",\n",
    "    \"https://makito.es/WebRoot/Store/Shops/Makito/6332/C404/3FD4/1B5D/1AAB/0A6E/0397/F217/2483-A3.jpg\"\n",
    "]\n",
    "\n",
    "for i, url in enumerate(urls):\n",
    "    download_from_webbrowser(url, f\"image_{i+1}.jpg\")\n",
    "    \n",
    "print(\"Done!\")"
   ]
  }
 ],
 "metadata": {
  "kernelspec": {
   "display_name": ".venv",
   "language": "python",
   "name": "python3"
  },
  "language_info": {
   "codemirror_mode": {
    "name": "ipython",
    "version": 3
   },
   "file_extension": ".py",
   "mimetype": "text/x-python",
   "name": "python",
   "nbconvert_exporter": "python",
   "pygments_lexer": "ipython3",
   "version": "3.10.6"
  }
 },
 "nbformat": 4,
 "nbformat_minor": 2
}
